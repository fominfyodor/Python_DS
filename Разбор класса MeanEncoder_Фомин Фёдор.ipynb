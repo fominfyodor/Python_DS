{
 "cells": [
  {
   "cell_type": "code",
   "execution_count": 1,
   "metadata": {},
   "outputs": [],
   "source": [
    "import numpy as np\n",
    "import pandas as pd\n",
    "from sklearn.base import BaseEstimator, TransformerMixin\n",
    "from sklearn.preprocessing import OneHotEncoder as sklearnOneHotEncoder\n",
    "from sklearn.preprocessing import LabelEncoder\n",
    "from sklearn.utils.validation import check_X_y, check_array, check_random_state\n",
    "from sklearn.utils import column_or_1d\n",
    "from sklearn.utils.validation import check_is_fitted"
   ]
  },
  {
   "cell_type": "code",
   "execution_count": 2,
   "metadata": {},
   "outputs": [],
   "source": [
    "class MeanEncoder(BaseEstimator, TransformerMixin):\n",
    "    \"\"\"Encode categorical features using means of target feature.\n",
    "    \"\"\"\n",
    "    def __init__(self):\n",
    "        pass\n",
    "\n",
    "    def fit(self, X, y):\n",
    "        \"\"\"Fit MeanEncoder\n",
    "        Parameters\n",
    "        ----------\n",
    "        X : array-like of shape (n_samples,)\n",
    "            Input array of any type\n",
    "        y: array-like of shape (n_samples,)\n",
    "            Target values for means calculation\n",
    "        Returns\n",
    "        -------\n",
    "        self : returns an instance of self.\n",
    "        \"\"\"\n",
    "        \n",
    "        # Проверяем, содержится ли во входящих массивах Х и у \n",
    "        # хотя бы одно пустое значение\n",
    "        # Если содержится, то выводим ошибку \"Input contains NaN\"\n",
    "        if pd.Series(X).isnull().any():\n",
    "            raise ValueError(\"Input contains NaN\")\n",
    "\n",
    "        if pd.Series(y).isnull().any():\n",
    "            raise ValueError(\"Input contains NaN\")\n",
    "        \n",
    "        # Проверяет входящие массивы Х и у на соответствие \"длин\"\n",
    "        # Проверяет размерность у: является ли массив одномерным\n",
    "        # Проверяет, больше ли двух размерность Х\n",
    "        # Проверяет, входят ли в Х бесконечные или пустые значения\n",
    "        # ensure_2d=False: в данном случае при одномерном Х не будет вызвана ошибка\n",
    "        # dtype=None: в данном случае сохраняется dtype предикторов входящих массивов\n",
    "        # copy=True: создаем копию входящих данных\n",
    "        # Возвращает проверенные и конвертированные в numpy.ndarray X, y\n",
    "        X, y = check_X_y(X, y, ensure_2d=False, dtype=None, copy=True)\n",
    "        \n",
    "        # Определяем количество уникальных значений в массиве Х\n",
    "        # Записываем их в переменную classes_ экземпляра класса\n",
    "        self.classes_ = np.unique(X)\n",
    "        \n",
    "        # Создаём список из массивов соответствий между значениями из Х\n",
    "        # и значениями из self.classes_. Массивы состоят из True, False.\n",
    "        # Сколько уникальных значений в self.classes_- столько массивов в indexes\n",
    "        indexes = [(X == value) for value in self.classes_]\n",
    "        \n",
    "        # Для каждого массива из indexes считаем среднее значение массива по маске у:\n",
    "        # True = соответсвующему значению из y. \n",
    "        # Записываем результат в means_ экземпляра класса\n",
    "        self.means_ = [y[index].mean() for index in indexes]\n",
    "        \n",
    "        # Возвращаем экземпляр класса\n",
    "        return self\n",
    "\n",
    "    def fit_transform(self, X, y=None, **fit_params):\n",
    "        \"\"\"Fit MeanEncoder to X, then transform X.\n",
    "        Equivalent to self.fit(X).transform(X)\n",
    "        Parameters\n",
    "        ----------\n",
    "        X : array-like of shape (n_samples,)\n",
    "            Input array of any type\n",
    "        y: array-like of shape (n_samples,)\n",
    "            Target values for means calculation\n",
    "        Returns\n",
    "        -------\n",
    "        X* : array-like\n",
    "        \"\"\"\n",
    "        # Проверяем, содержится ли во входящих массивах Х и у \n",
    "        # хотя бы одно пустое значение\n",
    "        # Если содержится, то выводим ошибку \"Input contains NaN\"\n",
    "        if pd.Series(X).isnull().any():\n",
    "            raise ValueError(\"Input contains NaN\")\n",
    "\n",
    "        if pd.Series(y).isnull().any():\n",
    "            raise ValueError(\"Input contains NaN\")\n",
    "            \n",
    "        # Проверяет входящие массивы Х и у на соответствие \"длин\"\n",
    "        # Проверяет размерность у: является ли массив одномерным\n",
    "        # Проверяет, больше ли двух размерность Х\n",
    "        # Проверяет, входят ли в Х бесконечные или пустые значения\n",
    "        # ensure_2d=False: в данном случае при одномерном Х не будет вызвана ошибка\n",
    "        # dtype=None: в данном случае сохраняется dtype предикторов входящих массивов\n",
    "        # copy=True: создаем копию входящих данных\n",
    "        # Возвращает проверенные и конвертированные в numpy.ndarray X, y\n",
    "        X, y = check_X_y(X, y, ensure_2d=False, dtype=None, copy=True)\n",
    "        \n",
    "        # Определяем количество уникальных значений в массиве Х\n",
    "        # Записываем их в переменную classes_ экземпляра класса        \n",
    "        self.classes_ = np.unique(X)\n",
    "        \n",
    "        # Создаём список из массивов соответствий между значениями из Х\n",
    "        # и значениями из self.classes_. Массивы состоят из True, False.\n",
    "        # Сколько уникальных значений в self.classes_- столько массивов в indexes        \n",
    "        indexes = [(X == value) for value in self.classes_]\n",
    "        \n",
    "        # Для каждого массива из indexes считаем среднее значение массива по маске у:\n",
    "        # True = соответсвующему значению из y. \n",
    "        # Записываем результат в means_ экземпляра класса\n",
    "        self.means_ = [y[index].mean() for index in indexes]\n",
    "        \n",
    "        # Присваиваем категориальному значению Х соответствующее ему среднее из self.means_.\n",
    "        # Для этого создается объект-итератор, из которого при каждом обороте цикла извлекается кортеж, \n",
    "        # состоящий из двух элементов. Первый берется из списка indexes, второй - из self.means_.\n",
    "        # Так как последовательность в indexes и self.means_ сохранена, выполняем присваивание\n",
    "        for index, mean in zip(indexes, self.means_):\n",
    "            X[index] = mean\n",
    "            \n",
    "        # Возвращаем преобразованный предиктор\n",
    "        return X\n",
    "\n",
    "    def transform(self, X):\n",
    "        \"\"\" Transform X by fitted MeanEncoder.\n",
    "        Parameters\n",
    "        ----------\n",
    "        X : array-like of shape (n_samples,)\n",
    "        Input array of any type\n",
    "        Returns\n",
    "        -------\n",
    "        X* : array-like\n",
    "        \"\"\"\n",
    "        \n",
    "        # Проверяем, был ли выполнен метод fit().\n",
    "        # Для этого смотрим, существует ли атрибут classes_ у экземпляра класса\n",
    "        check_is_fitted(self, 'classes_')\n",
    "        \n",
    "        # Проверяем, содержится ли во входящем массиве Х\n",
    "        # хотя бы одно пустое значение\n",
    "        # Если содержится, то выводим ошибку \"Input contains NaN\"        \n",
    "        if pd.Series(X).isnull().any():\n",
    "            raise ValueError(\"Input contains NaN\")\n",
    "            \n",
    "        # Проверяет, больше ли двух размерность Х\n",
    "        # Проверяет, входят ли в Х бесконечные или пустые значения\n",
    "        # ensure_2d=False: в данном случае при одномерном Х не будет вызвана ошибка\n",
    "        # dtype=None: в данном случае сохраняется dtype предикторов входящих массивов\n",
    "        # copy=True: создаем копию входящих данных\n",
    "        # Возвращает проверенные и конвертированные в numpy.ndarray X            \n",
    "        X = check_array(X, ensure_2d=False, dtype=None, copy=True)\n",
    "\n",
    "        # Определяем количество уникальных значений в массиве Х\n",
    "        # Записываем их в переменную classes        \n",
    "        classes = np.unique(X)\n",
    "        \n",
    "        # Проверяем, имеются ли в обучаемом массиве уникальные категориальные значения.\n",
    "        # Для этого находим длину пересечения множеств classes и self.classes_.\n",
    "        # Если она оказалась меньше длины множества classes, то выводим ошибку с расчётом,\n",
    "        # сколько новых уровней содержит обучающий массив\n",
    "        if len(np.intersect1d(classes, self.classes_)) < len(classes):\n",
    "            diff = np.setdiff1d(classes, self.classes_)\n",
    "            raise ValueError(\"X contains new labels: %s\" % str(diff))\n",
    "  \n",
    "        # Создаём список из массивов соответствий между значениями из Х\n",
    "        # и значениями из self.classes_. Массивы состоят из True, False.\n",
    "        # Сколько уникальных значений в self.classes_- столько массивов в indexes  \n",
    "        indexes = [(X == value) for value in self.classes_]\n",
    "        \n",
    "        # Присваиваем категориальному значению Х соответствующее ему среднее из self.means_.\n",
    "        # Для этого создается объект-итератор, из которого при каждом обороте цикла извлекается кортеж, \n",
    "        # состоящий из двух элементов. Первый берется из списка indexes, второй - из self.means_.\n",
    "        # Так как последовательность в indexes и self.means_ сохранена, выполняем присваивание\n",
    "        for index, mean in zip(indexes, self.means_):\n",
    "            X[index] = mean\n",
    "        return X"
   ]
  },
  {
   "cell_type": "code",
   "execution_count": 25,
   "metadata": {},
   "outputs": [],
   "source": [
    "# создаем игрушечный обучающий датафрейм pandas\n",
    "toy_train = pd.DataFrame({'Balance': [8.3, 9.4, 10.2, 0],\n",
    "                          'Age': [23, 29, 36, 44],\n",
    "                          'Male': [\"M\", \"M\", \"W\", \"M\"]})"
   ]
  },
  {
   "cell_type": "code",
   "execution_count": 51,
   "metadata": {},
   "outputs": [],
   "source": [
    "X, y = check_X_y(toy_train[\"Male\"], toy_train[\"Age\"], ensure_2d=False, dtype=None, copy=True)"
   ]
  },
  {
   "cell_type": "code",
   "execution_count": 52,
   "metadata": {},
   "outputs": [
    {
     "data": {
      "text/plain": [
       "dtype('O')"
      ]
     },
     "execution_count": 52,
     "metadata": {},
     "output_type": "execute_result"
    }
   ],
   "source": [
    "X.dtype\n"
   ]
  },
  {
   "cell_type": "code",
   "execution_count": 53,
   "metadata": {},
   "outputs": [
    {
     "data": {
      "text/plain": [
       "array(['M', 'M', 'W', 'M'], dtype=object)"
      ]
     },
     "execution_count": 53,
     "metadata": {},
     "output_type": "execute_result"
    }
   ],
   "source": [
    "X"
   ]
  },
  {
   "cell_type": "code",
   "execution_count": 54,
   "metadata": {},
   "outputs": [
    {
     "data": {
      "text/plain": [
       "array([23, 29, 36, 44], dtype=int64)"
      ]
     },
     "execution_count": 54,
     "metadata": {},
     "output_type": "execute_result"
    }
   ],
   "source": [
    "y"
   ]
  },
  {
   "cell_type": "code",
   "execution_count": 55,
   "metadata": {},
   "outputs": [
    {
     "data": {
      "text/plain": [
       "numpy.ndarray"
      ]
     },
     "execution_count": 55,
     "metadata": {},
     "output_type": "execute_result"
    }
   ],
   "source": [
    "type(y)"
   ]
  },
  {
   "cell_type": "code",
   "execution_count": 56,
   "metadata": {},
   "outputs": [
    {
     "data": {
      "text/plain": [
       "array([ True,  True, False,  True])"
      ]
     },
     "execution_count": 56,
     "metadata": {},
     "output_type": "execute_result"
    }
   ],
   "source": [
    "X == \"M\""
   ]
  },
  {
   "cell_type": "code",
   "execution_count": 57,
   "metadata": {},
   "outputs": [
    {
     "data": {
      "text/plain": [
       "array(['M', 'W'], dtype=object)"
      ]
     },
     "execution_count": 57,
     "metadata": {},
     "output_type": "execute_result"
    }
   ],
   "source": [
    "classes_ = np.unique(X)\n",
    "classes_"
   ]
  },
  {
   "cell_type": "code",
   "execution_count": 58,
   "metadata": {},
   "outputs": [
    {
     "data": {
      "text/plain": [
       "[array([ True,  True, False,  True]), array([False, False,  True, False])]"
      ]
     },
     "execution_count": 58,
     "metadata": {},
     "output_type": "execute_result"
    }
   ],
   "source": [
    "indexes = [(X == value) for value in classes_]\n",
    "\n",
    "indexes"
   ]
  },
  {
   "cell_type": "code",
   "execution_count": 59,
   "metadata": {},
   "outputs": [
    {
     "data": {
      "text/plain": [
       "[32.0, 36.0]"
      ]
     },
     "execution_count": 59,
     "metadata": {},
     "output_type": "execute_result"
    }
   ],
   "source": [
    "means_ = [y[index].mean() for index in indexes]\n",
    "\n",
    "means_"
   ]
  },
  {
   "cell_type": "code",
   "execution_count": 63,
   "metadata": {},
   "outputs": [
    {
     "name": "stdout",
     "output_type": "stream",
     "text": [
      "[ True  True False  True]\n",
      "[False False  True False]\n"
     ]
    }
   ],
   "source": [
    "for index in indexes:\n",
    "    print(index)"
   ]
  },
  {
   "cell_type": "code",
   "execution_count": null,
   "metadata": {},
   "outputs": [],
   "source": []
  }
 ],
 "metadata": {
  "kernelspec": {
   "display_name": "Python 3",
   "language": "python",
   "name": "python3"
  },
  "language_info": {
   "codemirror_mode": {
    "name": "ipython",
    "version": 3
   },
   "file_extension": ".py",
   "mimetype": "text/x-python",
   "name": "python",
   "nbconvert_exporter": "python",
   "pygments_lexer": "ipython3",
   "version": "3.7.7"
  }
 },
 "nbformat": 4,
 "nbformat_minor": 2
}
