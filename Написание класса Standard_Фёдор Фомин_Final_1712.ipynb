{
 "cells": [
  {
   "cell_type": "raw",
   "metadata": {},
   "source": [
    "Созданы игрушечный обучающий и тестовый наборы.\n",
    "# создаем игрушечный обучающий датафрейм pandas\n",
    "toy_train = pd.DataFrame({'Balance': [8.3, 9.4, 10.2, 0],\n",
    "'Age': [23, 29, 36, 44]})\n",
    "\n",
    "# создаем игрушечный тестовый датафрейм pandas\n",
    "toy_test = pd.DataFrame({'Balance': [10.4, 3.1, 22.5, -1],\n",
    "'Age': [13, 19, 66, 33]})"
   ]
  },
  {
   "cell_type": "code",
   "execution_count": 1,
   "metadata": {},
   "outputs": [],
   "source": [
    "import pandas as pd\n",
    "import numpy as np\n",
    "\n",
    "from sklearn.base import BaseEstimator, TransformerMixin"
   ]
  },
  {
   "cell_type": "code",
   "execution_count": 2,
   "metadata": {},
   "outputs": [],
   "source": [
    "# Класс, выполняющий стандартизацию с реализацией корректировки на случай присутствия бинарных переменных \n",
    "# (когда делим не на одно, а на два стандартных отклонения).\n",
    "\n",
    "class StandardScalerFF(TransformerMixin):\n",
    "    def __init__(self, copy=True):\n",
    "        self.copy = copy\n",
    "        \n",
    "    def fit(self, X, y=None):\n",
    "        # Создаём копию, чтобы не менять исходный датафрейм\n",
    "        if self.copy == True:\n",
    "            X = X.copy()\n",
    "\n",
    "        # Проверяем тип данных входного массива.\n",
    "        # Если не DataFrame, то преобразуем в него\n",
    "        if isinstance(X, pd.DataFrame) == False:\n",
    "            X = pd.DataFrame(X)\n",
    "            X = X.astype(object).replace(\"None\", np.nan)\n",
    "            X = X.astype(object).replace(\"nan\", np.nan)   \n",
    "            \n",
    "        self.num_columns = [] # Список для вещественных признаков\n",
    "        self.bin_columns = [] # Список для бинарных переменных\n",
    "        for col in X.dtypes[X.dtypes != \"object\"].index:\n",
    "            if X[col].nunique() > 2:\n",
    "                self.num_columns.append(col)\n",
    "            else:\n",
    "                self.bin_columns.append(col)\n",
    "        \n",
    "        # считаем mean и std для вещественных признаков\n",
    "        self.X_num_mean = X[self.num_columns].mean()\n",
    "        self.X_num_std = X[self.num_columns].std()\n",
    "        \n",
    "        # считаем mean и std для бинарных признаков\n",
    "        self.X_bin_mean = X[self.bin_columns].mean()\n",
    "        self.X_bin_std = X[self.bin_columns].std()\n",
    "        \n",
    "        return self\n",
    "\n",
    "    def transform(self, X):\n",
    "        # Создаём копию, чтобы не менять исходный датафрейм\n",
    "        if self.copy == True:\n",
    "            X = X.copy()\n",
    "            \n",
    "        # Проверяем тип данных входного массива.\n",
    "        # Если не DataFrame, то преобразуем в него\n",
    "        if isinstance(X, pd.DataFrame) == False:\n",
    "            X = pd.DataFrame(X)\n",
    "            X = X.astype(object).replace(\"None\", np.nan)\n",
    "            X = X.astype(object).replace(\"nan\", np.nan)\n",
    "            \n",
    "        X[self.num_columns] = (X[self.num_columns] - self.X_num_mean) / self.X_num_std\n",
    "        X[self.bin_columns] = (X[self.bin_columns] - self.X_bin_mean) / (2 * self.X_bin_std)\n",
    "        \n",
    "        return X"
   ]
  },
  {
   "cell_type": "code",
   "execution_count": 3,
   "metadata": {},
   "outputs": [
    {
     "data": {
      "text/html": [
       "<div>\n",
       "<style scoped>\n",
       "    .dataframe tbody tr th:only-of-type {\n",
       "        vertical-align: middle;\n",
       "    }\n",
       "\n",
       "    .dataframe tbody tr th {\n",
       "        vertical-align: top;\n",
       "    }\n",
       "\n",
       "    .dataframe thead th {\n",
       "        text-align: right;\n",
       "    }\n",
       "</style>\n",
       "<table border=\"1\" class=\"dataframe\">\n",
       "  <thead>\n",
       "    <tr style=\"text-align: right;\">\n",
       "      <th></th>\n",
       "      <th>Balance</th>\n",
       "      <th>Age</th>\n",
       "    </tr>\n",
       "  </thead>\n",
       "  <tbody>\n",
       "    <tr>\n",
       "      <th>0</th>\n",
       "      <td>8.3</td>\n",
       "      <td>23</td>\n",
       "    </tr>\n",
       "    <tr>\n",
       "      <th>1</th>\n",
       "      <td>9.4</td>\n",
       "      <td>29</td>\n",
       "    </tr>\n",
       "    <tr>\n",
       "      <th>2</th>\n",
       "      <td>10.2</td>\n",
       "      <td>36</td>\n",
       "    </tr>\n",
       "    <tr>\n",
       "      <th>3</th>\n",
       "      <td>0.0</td>\n",
       "      <td>44</td>\n",
       "    </tr>\n",
       "  </tbody>\n",
       "</table>\n",
       "</div>"
      ],
      "text/plain": [
       "   Balance  Age\n",
       "0      8.3   23\n",
       "1      9.4   29\n",
       "2     10.2   36\n",
       "3      0.0   44"
      ]
     },
     "execution_count": 3,
     "metadata": {},
     "output_type": "execute_result"
    }
   ],
   "source": [
    "toy_train = pd.DataFrame({'Balance': [8.3, 9.4, 10.2, 0],\n",
    "'Age': [23, 29, 36, 44]})\n",
    "toy_train"
   ]
  },
  {
   "cell_type": "code",
   "execution_count": 4,
   "metadata": {},
   "outputs": [
    {
     "data": {
      "text/html": [
       "<div>\n",
       "<style scoped>\n",
       "    .dataframe tbody tr th:only-of-type {\n",
       "        vertical-align: middle;\n",
       "    }\n",
       "\n",
       "    .dataframe tbody tr th {\n",
       "        vertical-align: top;\n",
       "    }\n",
       "\n",
       "    .dataframe thead th {\n",
       "        text-align: right;\n",
       "    }\n",
       "</style>\n",
       "<table border=\"1\" class=\"dataframe\">\n",
       "  <thead>\n",
       "    <tr style=\"text-align: right;\">\n",
       "      <th></th>\n",
       "      <th>Balance</th>\n",
       "      <th>Age</th>\n",
       "    </tr>\n",
       "  </thead>\n",
       "  <tbody>\n",
       "    <tr>\n",
       "      <th>0</th>\n",
       "      <td>10.4</td>\n",
       "      <td>13</td>\n",
       "    </tr>\n",
       "    <tr>\n",
       "      <th>1</th>\n",
       "      <td>3.1</td>\n",
       "      <td>19</td>\n",
       "    </tr>\n",
       "    <tr>\n",
       "      <th>2</th>\n",
       "      <td>22.5</td>\n",
       "      <td>66</td>\n",
       "    </tr>\n",
       "    <tr>\n",
       "      <th>3</th>\n",
       "      <td>-1.0</td>\n",
       "      <td>33</td>\n",
       "    </tr>\n",
       "  </tbody>\n",
       "</table>\n",
       "</div>"
      ],
      "text/plain": [
       "   Balance  Age\n",
       "0     10.4   13\n",
       "1      3.1   19\n",
       "2     22.5   66\n",
       "3     -1.0   33"
      ]
     },
     "execution_count": 4,
     "metadata": {},
     "output_type": "execute_result"
    }
   ],
   "source": [
    "toy_test = pd.DataFrame({'Balance': [10.4, 3.1, 22.5, -1],\n",
    "'Age': [13, 19, 66, 33]})\n",
    "toy_test"
   ]
  },
  {
   "cell_type": "code",
   "execution_count": 5,
   "metadata": {},
   "outputs": [],
   "source": [
    "ssff = StandardScalerFF()"
   ]
  },
  {
   "cell_type": "code",
   "execution_count": 6,
   "metadata": {},
   "outputs": [
    {
     "data": {
      "text/plain": [
       "<__main__.StandardScalerFF at 0x1f0f5058710>"
      ]
     },
     "execution_count": 6,
     "metadata": {},
     "output_type": "execute_result"
    }
   ],
   "source": [
    "ssff.fit(toy_train)"
   ]
  },
  {
   "cell_type": "code",
   "execution_count": 7,
   "metadata": {},
   "outputs": [
    {
     "data": {
      "text/html": [
       "<div>\n",
       "<style scoped>\n",
       "    .dataframe tbody tr th:only-of-type {\n",
       "        vertical-align: middle;\n",
       "    }\n",
       "\n",
       "    .dataframe tbody tr th {\n",
       "        vertical-align: top;\n",
       "    }\n",
       "\n",
       "    .dataframe thead th {\n",
       "        text-align: right;\n",
       "    }\n",
       "</style>\n",
       "<table border=\"1\" class=\"dataframe\">\n",
       "  <thead>\n",
       "    <tr style=\"text-align: right;\">\n",
       "      <th></th>\n",
       "      <th>Balance</th>\n",
       "      <th>Age</th>\n",
       "    </tr>\n",
       "  </thead>\n",
       "  <tbody>\n",
       "    <tr>\n",
       "      <th>0</th>\n",
       "      <td>0.281031</td>\n",
       "      <td>-1.104315</td>\n",
       "    </tr>\n",
       "    <tr>\n",
       "      <th>1</th>\n",
       "      <td>0.514340</td>\n",
       "      <td>-0.441726</td>\n",
       "    </tr>\n",
       "    <tr>\n",
       "      <th>2</th>\n",
       "      <td>0.684019</td>\n",
       "      <td>0.331295</td>\n",
       "    </tr>\n",
       "    <tr>\n",
       "      <th>3</th>\n",
       "      <td>-1.479390</td>\n",
       "      <td>1.214747</td>\n",
       "    </tr>\n",
       "  </tbody>\n",
       "</table>\n",
       "</div>"
      ],
      "text/plain": [
       "    Balance       Age\n",
       "0  0.281031 -1.104315\n",
       "1  0.514340 -0.441726\n",
       "2  0.684019  0.331295\n",
       "3 -1.479390  1.214747"
      ]
     },
     "execution_count": 7,
     "metadata": {},
     "output_type": "execute_result"
    }
   ],
   "source": [
    "ssff.fit(toy_train)\n",
    "ssff.transform(toy_train)"
   ]
  },
  {
   "cell_type": "code",
   "execution_count": 8,
   "metadata": {},
   "outputs": [
    {
     "data": {
      "text/plain": [
       "Balance     6.975\n",
       "Age        33.000\n",
       "dtype: float64"
      ]
     },
     "execution_count": 8,
     "metadata": {},
     "output_type": "execute_result"
    }
   ],
   "source": [
    "ssff.X_num_mean"
   ]
  },
  {
   "cell_type": "code",
   "execution_count": 9,
   "metadata": {},
   "outputs": [
    {
     "data": {
      "text/plain": [
       "Balance    4.714782\n",
       "Age        9.055385\n",
       "dtype: float64"
      ]
     },
     "execution_count": 9,
     "metadata": {},
     "output_type": "execute_result"
    }
   ],
   "source": [
    "ssff.X_num_std"
   ]
  },
  {
   "cell_type": "code",
   "execution_count": 10,
   "metadata": {},
   "outputs": [
    {
     "data": {
      "text/html": [
       "<div>\n",
       "<style scoped>\n",
       "    .dataframe tbody tr th:only-of-type {\n",
       "        vertical-align: middle;\n",
       "    }\n",
       "\n",
       "    .dataframe tbody tr th {\n",
       "        vertical-align: top;\n",
       "    }\n",
       "\n",
       "    .dataframe thead th {\n",
       "        text-align: right;\n",
       "    }\n",
       "</style>\n",
       "<table border=\"1\" class=\"dataframe\">\n",
       "  <thead>\n",
       "    <tr style=\"text-align: right;\">\n",
       "      <th></th>\n",
       "      <th>Balance</th>\n",
       "      <th>Age</th>\n",
       "    </tr>\n",
       "  </thead>\n",
       "  <tbody>\n",
       "    <tr>\n",
       "      <th>0</th>\n",
       "      <td>0.726439</td>\n",
       "      <td>-2.208631</td>\n",
       "    </tr>\n",
       "    <tr>\n",
       "      <th>1</th>\n",
       "      <td>-0.821883</td>\n",
       "      <td>-1.546041</td>\n",
       "    </tr>\n",
       "    <tr>\n",
       "      <th>2</th>\n",
       "      <td>3.292835</td>\n",
       "      <td>3.644240</td>\n",
       "    </tr>\n",
       "    <tr>\n",
       "      <th>3</th>\n",
       "      <td>-1.691489</td>\n",
       "      <td>0.000000</td>\n",
       "    </tr>\n",
       "  </tbody>\n",
       "</table>\n",
       "</div>"
      ],
      "text/plain": [
       "    Balance       Age\n",
       "0  0.726439 -2.208631\n",
       "1 -0.821883 -1.546041\n",
       "2  3.292835  3.644240\n",
       "3 -1.691489  0.000000"
      ]
     },
     "execution_count": 10,
     "metadata": {},
     "output_type": "execute_result"
    }
   ],
   "source": [
    "ssff.transform(toy_test)"
   ]
  }
 ],
 "metadata": {
  "kernelspec": {
   "display_name": "Python 3",
   "language": "python",
   "name": "python3"
  },
  "language_info": {
   "codemirror_mode": {
    "name": "ipython",
    "version": 3
   },
   "file_extension": ".py",
   "mimetype": "text/x-python",
   "name": "python",
   "nbconvert_exporter": "python",
   "pygments_lexer": "ipython3",
   "version": "3.7.7"
  }
 },
 "nbformat": 4,
 "nbformat_minor": 2
}
